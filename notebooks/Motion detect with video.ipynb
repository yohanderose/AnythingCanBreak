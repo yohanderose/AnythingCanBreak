{
 "cells": [
  {
   "cell_type": "code",
   "execution_count": null,
   "id": "b7ceaa4e",
   "metadata": {},
   "outputs": [],
   "source": [
    "import cv2\n",
    "import numpy as np\n",
    "\n",
    "# Initialize the camera\n",
    "camera = cv2.VideoCapture(0)\n",
    "\n",
    "# Read the first frame\n",
    "_, frame1 = camera.read()\n",
    "\n",
    "while True:\n",
    "    # Read the current frame\n",
    "    _, frame2 = camera.read()\n",
    "\n",
    "    # Convert the frames to grayscale\n",
    "    frame1_gray = cv2.cvtColor(frame1, cv2.COLOR_BGR2GRAY)\n",
    "    frame2_gray = cv2.cvtColor(frame2, cv2.COLOR_BGR2GRAY)\n",
    "\n",
    "    # Calculate the absolute difference between the frames\n",
    "    difference = cv2.absdiff(frame1_gray, frame2_gray)\n",
    "\n",
    "    # Threshold the difference image\n",
    "    _, difference = cv2.threshold(difference, 25, 255, cv2.THRESH_BINARY)\n",
    "\n",
    "    # Dilate the difference image to amplify the changes\n",
    "    kernel = np.ones((5,5), np.uint8)\n",
    "    difference = cv2.dilate(difference, kernel, iterations=3)\n",
    "\n",
    "    # Check if any pixels are non-zero (movement detected)\n",
    "    if cv2.countNonZero(difference) > 0:\n",
    "        print(\"Motion detected\")\n",
    "\n",
    "    # Update the frame\n",
    "    frame1 = frame2\n",
    "\n",
    "    # Check for key press\n",
    "    key = cv2.waitKey(1)\n",
    "    if key == ord('q'):\n",
    "        break\n",
    "\n",
    "# Release the camera\n",
    "camera.release()\n",
    "cv2.destroyAllWindows()"
   ]
  }
 ],
 "metadata": {
  "kernelspec": {
   "display_name": "Python 3 (ipykernel)",
   "language": "python",
   "name": "python3"
  },
  "language_info": {
   "codemirror_mode": {
    "name": "ipython",
    "version": 3
   },
   "file_extension": ".py",
   "mimetype": "text/x-python",
   "name": "python",
   "nbconvert_exporter": "python",
   "pygments_lexer": "ipython3",
   "version": "3.10.8"
  }
 },
 "nbformat": 4,
 "nbformat_minor": 5
}
