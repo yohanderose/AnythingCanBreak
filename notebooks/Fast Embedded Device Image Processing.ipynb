{
 "cells": [
  {
   "cell_type": "code",
   "execution_count": 2,
   "metadata": {},
   "outputs": [],
   "source": [
    "import numpy as np\n",
    "import matplotlib.pyplot as plt\n",
    "import cv2\n",
    "from PIL import Image\n",
    "\n",
    "colours = [(230, 63, 7), (48, 18, 59), (68, 81, 191), (69, 138, 252), (37, 192, 231), \n",
    "           (31, 233, 175), (101, 253, 105), (175, 250, 55), (227, 219, 56), (253, 172, 52),\n",
    "           (246, 108, 25), (216, 55, 6), (164, 19, 1), (90, 66, 98), (105, 116, 203), \n",
    "           (106, 161, 253), (81, 205, 236), (76, 237, 191), (132, 253, 135), (191, 251, 95),\n",
    "           (233, 226, 96), (254, 189, 93), (248, 137, 71), (224, 95, 56), (182, 66, 52), \n",
    "           (230, 63, 7), (48, 18, 59), (68, 81, 191), (69, 138, 252), (37, 192, 231), \n",
    "           (31, 233, 175), (101, 253, 105), (175, 250, 55), (227, 219, 56), (253, 172, 52),\n",
    "           (246, 108, 25), (216, 55, 6), (164, 19, 1), (90, 66, 98), (105, 116, 203), \n",
    "           (106, 161, 253), (81, 205, 236), (76, 237, 191), (132, 253, 135), (191, 251, 95), \n",
    "           (233, 226, 96), (254, 189, 93), (248, 137, 71), (224, 95, 56), (182, 66, 52)]"
   ]
  },
  {
   "cell_type": "code",
   "execution_count": 3,
   "metadata": {},
   "outputs": [
    {
     "name": "stdout",
     "output_type": "stream",
     "text": [
      "Stacked grid of image dimension (12, 12) \n",
      "-- 16 arranged (4, 4) \n"
     ]
    }
   ],
   "source": [
    "num_imgs = 16\n",
    "arangement = (4,4)\n",
    "\n",
    "img_width = 3\n",
    "img_height = 3\n",
    "\n",
    "merged_img_arr = np.zeros( (img_height * arangement[1], img_width * arangement[0]))\n",
    "print(f\"Stacked grid of image dimension {merged_img_arr.shape} \\n-- {num_imgs} arranged {arangement} \")"
   ]
  },
  {
   "cell_type": "code",
   "execution_count": 42,
   "metadata": {},
   "outputs": [
    {
     "data": {
      "image/png": "[encoded data removed]",
      "text/plain": [
       "<Figure size 432x288 with 1 Axes>"
      ]
     },
     "metadata": {
      "needs_background": "light"
     },
     "output_type": "display_data"
    }
   ],
   "source": [
    "def display(img):\n",
    "    # Util function for plotting, not used in production\n",
    "    plt.imshow(img)\n",
    "    plt.show()\n",
    "    \n",
    "def write_slice_from_id(array, id, data=1):\n",
    "    # Concurrent safe write to shared combo-data array\n",
    "    row = (id // arangement[0]) * img_width\n",
    "    col = (id % arangement[1]) * img_height\n",
    "    arr = array.copy()\n",
    "    arr[row:row+img_width,col:col+img_height] = data\n",
    "    return arr\n",
    "\n",
    "area_bounds = merged_img_arr.copy()\n",
    "for i in range(num_imgs):\n",
    "     area_bounds = write_slice_from_id(area_bounds, i, data=i)\n",
    "display(area_bounds)\n",
    "\n",
    "\n",
    "def get_areaID_by_coordinate(x, y) -> int:\n",
    "    # Safe constant time reads from combo data\n",
    "    global area_bounds\n",
    "    return area_bounds[x][y]"
   ]
  },
  {
   "cell_type": "code",
   "execution_count": 43,
   "metadata": {},
   "outputs": [
    {
     "data": {
      "image/png": "[encoded data removed]",
      "text/plain": [
       "<Figure size 432x288 with 1 Axes>"
      ]
     },
     "metadata": {
      "needs_background": "light"
     },
     "output_type": "display_data"
    }
   ],
   "source": [
    "new_img = np.zeros((img_width, img_height))\n",
    "updated = write_slice_from_id(area_bounds, 15, data=new_img)\n",
    "display(updated)"
   ]
  },
  {
   "cell_type": "code",
   "execution_count": 4,
   "metadata": {},
   "outputs": [
    {
     "data": {
      "image/png": "[encoded data removed]",
      "text/plain": [
       "<Figure size 432x288 with 1 Axes>"
      ]
     },
     "metadata": {
      "needs_background": "light"
     },
     "output_type": "display_data"
    }
   ],
   "source": [
    "example_blobs = np.array([[0., 0., 0., 0., 0., 0., 0., 0., 0., 0., 0., 0.],\n",
    "                       [0., 0., 0., 0., 0., 0., 0., 0., 0., 0., 0., 0.],\n",
    "                       [0., 0., 0., 0., 0., 0., 0., 0., 0., 0., 0., 0.],\n",
    "                       [0., 0., 100., 100., 0., 0., 0., 0., 0., 0., 0., 0.],\n",
    "                       [0., 0., 100., 0., 0., 0., 0., 0., 0., 0., 0., 0.],\n",
    "                       [0., 0., 0., 0., 0., 0., 0., 0., 0., 200., 0., 0.],\n",
    "                       [0., 0., 0., 0., 0., 0., 0., 0., 200., 200., 0., 0.],\n",
    "                       [0., 0., 0., 0., 0., 0., 0., 0., 0., 0., 0., 0.],\n",
    "                       [0., 0., 0., 0., 0., 0., 0., 0., 0., 0., 0., 0.],\n",
    "                       [0., 0., 0., 0., 255., 255., 0., 0., 0., 0., 0., 0.],\n",
    "                       [0., 0., 0., 0., 0., 0., 0., 0., 0., 0., 0., 0.],\n",
    "                       [0., 0., 0., 0., 0., 0., 0., 0., 0., 0., 0., 0.]], np.uint8)\n",
    "display(example_blobs)"
   ]
  },
  {
   "cell_type": "code",
   "execution_count": 5,
   "metadata": {},
   "outputs": [
    {
     "data": {
      "image/png": "[encoded data removed]",
      "text/plain": [
       "<Figure size 432x288 with 1 Axes>"
      ]
     },
     "metadata": {
      "needs_background": "light"
     },
     "output_type": "display_data"
    }
   ],
   "source": [
    "blur = cv2.GaussianBlur(example_blobs.copy(), (3, 3), 0)\n",
    "# blur = example_blobs.copy()\n",
    "display(blur)"
   ]
  },
  {
   "cell_type": "code",
   "execution_count": 6,
   "metadata": {},
   "outputs": [
    {
     "data": {
      "image/png": "[encoded data removed]",
      "text/plain": [
       "<Figure size 432x288 with 1 Axes>"
      ]
     },
     "metadata": {
      "needs_background": "light"
     },
     "output_type": "display_data"
    }
   ],
   "source": [
    "contours, hierarchy= cv2.findContours(blur.copy(), cv2.RETR_EXTERNAL, cv2.CHAIN_APPROX_SIMPLE)\n",
    "sorted_contours= sorted(contours, key=cv2.contourArea, reverse= True)\n",
    "blobs_contoured = example_blobs.copy()\n",
    "\n",
    "for i in range(len(sorted_contours)):    \n",
    "    cv2.drawContours(blobs_contoured, [sorted_contours[i]], -1, colours[i], -1)\n",
    "display(blobs_contoured)"
   ]
  },
  {
   "cell_type": "code",
   "execution_count": 7,
   "metadata": {},
   "outputs": [
    {
     "data": {
      "text/plain": [
       "{0: True,\n",
       " 1: True,\n",
       " 2: False,\n",
       " 3: False,\n",
       " 4: True,\n",
       " 5: True,\n",
       " 6: True,\n",
       " 7: True,\n",
       " 8: False,\n",
       " 9: True,\n",
       " 10: True,\n",
       " 11: True,\n",
       " 12: False,\n",
       " 13: True,\n",
       " 14: True,\n",
       " 15: False}"
      ]
     },
     "execution_count": 7,
     "metadata": {},
     "output_type": "execute_result"
    }
   ],
   "source": [
    "state = dict(zip(range(num_imgs), [False] * num_imgs))\n",
    "point_contours = np.vstack(contours).squeeze()\n",
    "\n",
    "for point in  point_contours:\n",
    "    state[get_areaID_by_coordinate(point[0], point[1])] = True\n",
    "state"
   ]
  }
 ],
 "metadata": {
  "kernelspec": {
   "display_name": "Python 3 (ipykernel)",
   "language": "python",
   "name": "python3"
  },
  "language_info": {
   "codemirror_mode": {
    "name": "ipython",
    "version": 3
   },
   "file_extension": ".py",
   "mimetype": "text/x-python",
   "name": "python",
   "nbconvert_exporter": "python",
   "pygments_lexer": "ipython3",
   "version": "3.10.4"
  }
 },
 "nbformat": 4,
 "nbformat_minor": 4
}
