{
 "cells": [
  {
   "cell_type": "code",
   "execution_count": 11,
   "id": "1e8ca2cb",
   "metadata": {},
   "outputs": [
    {
     "name": "stdout",
     "output_type": "stream",
     "text": [
      "Change detected\n"
     ]
    }
   ],
   "source": [
    "import cv2\n",
    "import numpy as np\n",
    "import matplotlib.pyplot as plt\n",
    "\n",
    "def detect_change(refFrame, curFrame):\n",
    "    # Convert the images to grayscale\n",
    "    refFrame_gray = cv2.cvtColor(refFrame, cv2.COLOR_BGR2GRAY)\n",
    "    curFrame_gray = cv2.cvtColor(curFrame, cv2.COLOR_BGR2GRAY)\n",
    "\n",
    "    # Calculate the absolute difference between the images\n",
    "    difference = cv2.absdiff(refFrame_gray, curFrame_gray)\n",
    "\n",
    "    # Threshold the difference image\n",
    "    _, difference = cv2.threshold(difference, 25, 255, cv2.THRESH_BINARY)\n",
    "\n",
    "    # Dilate the difference image to amplify the changes\n",
    "    kernel = np.ones((1,1), np.uint8)\n",
    "    difference = cv2.dilate(difference, kernel, iterations=3)\n",
    "\n",
    "    # Check if any pixels are non-zero (change detected)\n",
    "    if cv2.countNonZero(difference) > 0:\n",
    "        # plt.imshow(difference, cmap='gray')\n",
    "        # plt.show()\n",
    "        return True\n",
    "    else:\n",
    "        return False\n",
    "\n",
    "# Read the reference frame\n",
    "refFrame = cv2.imread('refFrame.jpg')\n",
    "\n",
    "# Read the current frame\n",
    "curFrame = cv2.imread('curFrame.jpg')\n",
    "\n",
    "# Detect change\n",
    "if detect_change(refFrame, curFrame):\n",
    "    print(\"Change detected\")\n",
    "else:\n",
    "    print(\"No change detected\")\n"
   ]
  },
  {
   "cell_type": "code",
   "execution_count": null,
   "id": "b750e943",
   "metadata": {},
   "outputs": [],
   "source": []
  }
 ],
 "metadata": {
  "kernelspec": {
   "display_name": "Python 3 (ipykernel)",
   "language": "python",
   "name": "python3"
  },
  "language_info": {
   "codemirror_mode": {
    "name": "ipython",
    "version": 3
   },
   "file_extension": ".py",
   "mimetype": "text/x-python",
   "name": "python",
   "nbconvert_exporter": "python",
   "pygments_lexer": "ipython3",
   "version": "3.10.8"
  }
 },
 "nbformat": 4,
 "nbformat_minor": 5
}
